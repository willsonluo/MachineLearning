{
 "cells": [
  {
   "cell_type": "code",
   "execution_count": 1,
   "metadata": {},
   "outputs": [
    {
     "name": "stdout",
     "output_type": "stream",
     "text": [
      "[0]\n",
      "[0]\n"
     ]
    }
   ],
   "source": [
    "from sklearn import svm\n",
    "from sklearn import datasets\n",
    "\n",
    "clf = svm.SVC()\n",
    "iris = datasets.load_iris()\n",
    "X, y = iris.data, iris.target\n",
    "clf.fit(X, y)\n",
    "\n",
    "# method 1: pickle\n",
    "import pickle\n",
    "# save\n",
    "with open('save/clf.pickle', 'wb') as f:\n",
    "    pickle.dump(clf, f)\n",
    "# restore\n",
    "with open('save/clf.pickle', 'rb') as f:\n",
    "   clf2 = pickle.load(f)\n",
    "   print(clf2.predict(X[0:1]))\n",
    "\n",
    "# method 2: joblib\n",
    "from sklearn.externals import joblib\n",
    "# Save\n",
    "joblib.dump(clf, 'save/clf.pkl')\n",
    "# restore\n",
    "clf3 = joblib.load('save/clf.pkl')\n",
    "print(clf3.predict(X[0:1]))"
   ]
  }
 ],
 "metadata": {
  "kernelspec": {
   "display_name": "Python 3",
   "language": "python",
   "name": "python3"
  },
  "language_info": {
   "codemirror_mode": {
    "name": "ipython",
    "version": 3
   },
   "file_extension": ".py",
   "mimetype": "text/x-python",
   "name": "python",
   "nbconvert_exporter": "python",
   "pygments_lexer": "ipython3",
   "version": "3.6.5"
  }
 },
 "nbformat": 4,
 "nbformat_minor": 2
}
